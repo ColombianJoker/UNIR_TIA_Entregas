{
 "cells": [
  {
   "cell_type": "markdown",
   "id": "de1406ba",
   "metadata": {},
   "source": [
    "<img src=\"https://www.unir.net/wp-content/uploads/2019/11/Unir_2021_logo.svg\" width=\"240\" height=\"240\" align=\"right\"/>"
   ]
  },
  {
   "cell_type": "markdown",
   "id": "8b6f603c",
   "metadata": {},
   "source": [
    "<center><h1>Técnicas de Inteligencia Artificial</header1></center>\n",
    "<left><h1>Actividad 1. Laboratorio: Árboles de decisión, reglas y ensemble learning</header1></left>"
   ]
  },
  {
   "cell_type": "markdown",
   "id": "3eb1aaac",
   "metadata": {},
   "source": [
    "Presentado por: **Ramón Barrios Láscar**  <br>\n",
    "Fecha: 01/12/2023"
   ]
  },
  {
   "cell_type": "markdown",
   "id": "1dec299b",
   "metadata": {
    "ExecuteTime": {
     "end_time": "2022-03-14T15:14:04.930713Z",
     "start_time": "2022-03-14T15:14:04.921682Z"
    }
   },
   "source": [
    "## Importación de librerias necesarias"
   ]
  },
  {
   "cell_type": "code",
   "execution_count": 2,
   "id": "6d1abf7a",
   "metadata": {
    "ExecuteTime": {
     "end_time": "2022-03-14T15:14:46.228059Z",
     "start_time": "2022-03-14T15:14:46.223108Z"
    }
   },
   "outputs": [],
   "source": [
    "#Para esta actividad se importarán las siguientes librerías:\n",
    "import pandas as pd\n",
    "import seaborn as sns\n",
    "import sklearn as skl"
   ]
  },
  {
   "cell_type": "markdown",
   "id": "6a44b924",
   "metadata": {},
   "source": [
    "## Cargar el Dataset"
   ]
  },
  {
   "cell_type": "code",
   "execution_count": 44,
   "id": "3541e808",
   "metadata": {},
   "outputs": [],
   "source": [
    "#Código para cargar el Dataset\n",
    "url = 'https://raw.githubusercontent.com/oscar-unir/TIA/main/datasets/car/Laboratorio_dataset_car.csv'\n",
    "df = pd.read_csv(url, sep=';', header='infer', encoding='utf-8')"
   ]
  },
  {
   "cell_type": "markdown",
   "metadata": {},
   "source": [
    "<div class=\"alert alert-block alert-info\"> <b>RBL: </b>Se carga el dataset directamente de la URL anotada en el notebook base, así se evita depender de el archivo local y su estructura.</div>"
   ]
  },
  {
   "cell_type": "markdown",
   "id": "7f868eab",
   "metadata": {},
   "source": [
    "## Explique el problema a resolver. \n",
    "Descripción del problema. Tipo de problema (justifique). Variable objetivo, variables de entrada. Utilidad de su posible solución. Elementos adicionales que considere relevantes:"
   ]
  },
  {
   "cell_type": "markdown",
   "metadata": {},
   "source": [
    "<div class=\"alert alert-block alert-info\"> <b>RBL: </b>Según la especificaciones en el documento <code>visa04lab</code>, página <b>3</b>, se deberán usar dos algoritmos de clasificación, por lo que se trata entonces de un *problema de clasificación*. Antes de explorar detalladamente el dataset no se puede decir más, por lo que esto se tratará más adelante.</div>"
   ]
  },
  {
   "cell_type": "markdown",
   "id": "a0b719c1",
   "metadata": {},
   "source": [
    "## Caracterización del Dataset\n",
    "\n",
    "Se incluye una descripción de los datos con:\n",
    "\n",
    ">- Número de clases de la variable objetivo, indicando que representan dichas clases y el tipo de valor que toman.\n",
    ">- Número de instancias en total.\n",
    ">- Número de instancias pertenecientes a cada clase.\n",
    ">- Número de atributos de entrada, su significado y tipo.\n",
    ">- ¿Hay algún valor de atributo desconocido?\n",
    "\n",
    "Se incorporá una descripción (EDA) del conjunto de datos utilizado. Se analiza el dataset proporcionando, se muestra al menos algunas de sus características mediante tablas y al menos algunas de ellas en modo gráfico (p.ej., histogramas, diagramas de dispersión, diagramas de cajas y bigotes, etc.)\n"
   ]
  },
  {
   "cell_type": "code",
   "execution_count": 45,
   "id": "2f0ed5d2",
   "metadata": {},
   "outputs": [
    {
     "name": "stdout",
     "output_type": "stream",
     "text": [
      "El dataset está compuesto de 1750 instancias y 7 atributos (filas×columnas)\n",
      "Con los siguientes atributos:\n",
      "• Buying\n",
      "• Maintenance\n",
      "• Doors\n",
      "• Person\n",
      "• lug_boot\n",
      "• safety\n",
      "• class\n"
     ]
    }
   ],
   "source": [
    "print(f\"El dataset está compuesto de %d instancias y %d atributos (filas×columnas)\"%(df.shape[0],df.shape[1],))\n",
    "print(f\"Con los siguientes atributos:\")\n",
    "for col in df.columns:\n",
    "    print(f\"• {col}\")"
   ]
  },
  {
   "cell_type": "markdown",
   "metadata": {},
   "source": [
    "<div class=\"alert alert-block alert-info\"> <b>RBL: </b>Como reporta el código, el dataset tiene <b>1749</b> instancias, con <b>atributos</b>:\n",
    "<p><ul><li>Buying</li>\n",
    "<li>Maintenance</li>\n",
    "<li>Doors</li>\n",
    "<li>Person</li>\n",
    "<li>lug_boot</li>\n",
    "<li>safety</li>\n",
    "<li>class</li></ul>\n",
    "</div>"
   ]
  },
  {
   "cell_type": "code",
   "execution_count": 62,
   "id": "ad08f162",
   "metadata": {},
   "outputs": [
    {
     "name": "stdout",
     "output_type": "stream",
     "text": [
      "Valores para la columna 'Buying':\n",
      "Buying\n",
      "high     432\n",
      "low      437\n",
      "med      438\n",
      "vhigh    443\n",
      "Name: Buying, dtype: int64\n",
      "\n",
      "Valores para la columna 'Maintenance':\n",
      "Maintenance\n",
      "high     432\n",
      "low      447\n",
      "med      434\n",
      "vhigh    437\n",
      "Name: Maintenance, dtype: int64\n",
      "\n",
      "Valores para la columna 'Doors':\n",
      "Doors\n",
      "2        444\n",
      "3        435\n",
      "4        434\n",
      "5more    437\n",
      "Name: Doors, dtype: int64\n",
      "\n",
      "Valores para la columna 'Person':\n",
      "Person\n",
      "2       578\n",
      "4       587\n",
      "more    585\n",
      "Name: Person, dtype: int64\n",
      "\n",
      "Valores para la columna 'lug_boot':\n",
      "lug_boot\n",
      "big      585\n",
      "med      583\n",
      "small    582\n",
      "Name: lug_boot, dtype: int64\n",
      "\n",
      "Valores para la columna 'safety':\n",
      "safety\n",
      "high    590\n",
      "low     578\n",
      "med     582\n",
      "Name: safety, dtype: int64\n",
      "\n",
      "Valores para la columna 'class':\n",
      "class\n",
      "acc       390\n",
      "good       75\n",
      "unacc    1215\n",
      "vgood      70\n",
      "Name: class, dtype: int64\n",
      "\n",
      "Tipos:\n"
     ]
    },
    {
     "data": {
      "text/plain": [
       "Buying         object\n",
       "Maintenance    object\n",
       "Doors          object\n",
       "Person         object\n",
       "lug_boot       object\n",
       "safety         object\n",
       "class          object\n",
       "dtype: object"
      ]
     },
     "execution_count": 62,
     "metadata": {},
     "output_type": "execute_result"
    }
   ],
   "source": [
    "for col in df.columns:\n",
    "    print(f\"Valores para la columna '{col}':\")\n",
    "    print(df.groupby([col])[col].count())\n",
    "    print()\n",
    "print(\"Tipos:\")\n",
    "df.dtypes"
   ]
  },
  {
   "cell_type": "markdown",
   "metadata": {},
   "source": [
    "<div class=\"alert alert-block alert-info\"> <b>RBL: </b>\n",
    "Se tienen las columnas ya mencionadas, que se detallan:<ul>\n",
    "<li><b>Buying</b>: texto (categórica), con cuatro posibilidades, <b>low</b>, <code>437</code>; <b>med</b>, <code>438</code>; <b>high</b>, <code>432</code>; y <b>vhigh</b>, <code>443</code> <i>(parece ser el \"precio de compra\")</i></li>\n",
    "<li><b>Maintenance</b>: texto (categórica), con cuatro posibilidades, <b>low</b>, <code>447</code>; <b>med</b>, <code>434</code>; <b>high</b>, <code>432</code>;  y <b>vhigh</b>, <code>437</code> <i>(parece ser el \"costo de mantenimiento\")</i></li>\n",
    "<li><b>Doors</b>: texto (categórica), con cuatro posibilidades, <b>2</b>, <code>444</code>; <b>3</b>, <code>435</code>; <b>4</b>, <code>434</code>; y <b>5more</b>, <code>437</code> (esto es el número de puertas, con <i>5more</i> siendo \"5 o más puertas\")</li>\n",
    "<li><b>Person</b>: texto (categórica), con tres posibilidades, <b>2</b>, <code>578</code>; <b>4</b>, <code>587</code>;  y <b>more</b>, <code>585</code>  (esto es el número de pasajeros, con <i>more</i> siendo \"más de cuatro pasajeros\")</li>\n",
    "<li><b>lug_boot</b>: texto (categórica), con tres posibilidades, <b>small</b>, <code>582</code>; <b>med</b>, <code>583</code>; y <b>big</b>, <code>585</code>; (esto es el tamaño del baúl)</li>\n",
    "<li><b>safety</b>: texto (categórica), con tres posibilidades, <b>low</b>, <code>578</code>; <b>med</b>, <code>582</code>; y <b>high</b>, <code>590</code> (esto es qué tan seguro se considera al vehículo)</li>\n",
    "<li><b>class</b>: texto (categórica), con cuatro posibilidades, <b>unacc</b>, <code>1215</code>; <b>acc</b>, <code>390</code>; <b>good</b>, <code>75</code>; y <b>vgood</b>, <code>70</code> (esto parece ser \"qué tan atractivo para la compra es\", con <i>unacc</i> o \"no\", <i>acc</i> o \"aceptable\", <i>good</i> o \"bien\", y <i>vgood</i> o \"muy\")</li>\n",
    "</ul>\n",
    "<p>El texto <b>así</b> es uno de los valores del atributo y el número <code>así</code> es \"cuántas instancias en esa clase\"<p></div>"
   ]
  },
  {
   "cell_type": "markdown",
   "metadata": {},
   "source": [
    "<div class=\"alert alert-block alert-info\"> <b>RBL: </b><ul>\n",
    "<li>Encontradas en <b>Buying</b> con valores: <code>432+437+438+443 = 1750</code> (todas)</li>\n",
    "<li>Encontradas en <b>Maintenance</b> con valores: <code>447+434+432+437 = 1750</code> (todas)</li>\n",
    "<li>Encontradas en <b>Doors</b> con valores: <code>444+435+434+437 = 1750</code> (todas)</li>\n",
    "<li>Encontradas en <b>Person</b> con valores: <code>578+587+585 = 1750</code> (todas)</li>\n",
    "<li>Encontradas en <b>lug_boot</b> con valores: <code>582+583+585 = 1750</code> (todas)</li>\n",
    "<li>Encontradas en <b>safety</b> con valores: <code>578+582+590 = 1750</code> (todas)</li>\n",
    "<li>Encontradas en <b>class</b> con valores: <code>1215+390+75+70 = 1750</code> (todas)</li>\n",
    "</ul></p>\n",
    "<p>Este es un dataset completamente limpio, sin nulos o \"N/A\"</div>"
   ]
  },
  {
   "cell_type": "markdown",
   "id": "ece5beca",
   "metadata": {
    "ExecuteTime": {
     "end_time": "2022-03-14T15:52:20.156185Z",
     "start_time": "2022-03-14T15:52:20.150187Z"
    }
   },
   "source": [
    "## Preprocesamiento del dataset. Transformaciones previas necesarias para la modelación"
   ]
  },
  {
   "cell_type": "code",
   "execution_count": 36,
   "id": "85c9ad88",
   "metadata": {},
   "outputs": [],
   "source": [
    "#Código que realice las transformaciones necesarias para poder realizar los procesos de modelación. Ej.One hot enconding"
   ]
  },
  {
   "cell_type": "markdown",
   "id": "49815fde",
   "metadata": {
    "ExecuteTime": {
     "end_time": "2022-03-14T15:56:34.366469Z",
     "start_time": "2022-03-14T15:56:34.358471Z"
    }
   },
   "source": [
    "## División del dataset en datos de entrenamiento y datos de test "
   ]
  },
  {
   "cell_type": "code",
   "execution_count": 37,
   "id": "6f26d21e",
   "metadata": {},
   "outputs": [],
   "source": [
    "#Código que realice la división en entrenamiento y test, de acuerdo con la estretgia de evluación planeada. Describa cuál es."
   ]
  },
  {
   "cell_type": "markdown",
   "id": "1a91e96b",
   "metadata": {},
   "source": [
    "## Ajuste de los modelos de clasificación propuestos"
   ]
  },
  {
   "cell_type": "markdown",
   "id": "d552bc64",
   "metadata": {},
   "source": [
    "Justifique la selección de las dos propuestas de modelación seleccionadas:"
   ]
  },
  {
   "cell_type": "code",
   "execution_count": 38,
   "id": "d5d2b2c6",
   "metadata": {},
   "outputs": [],
   "source": [
    "#Código de ajuste del modelo de clasificación 1"
   ]
  },
  {
   "cell_type": "code",
   "execution_count": 39,
   "id": "33f5be2a",
   "metadata": {},
   "outputs": [],
   "source": [
    "#Código de ajuste del modelo de clasificación 2"
   ]
  },
  {
   "cell_type": "markdown",
   "id": "aa4b8461",
   "metadata": {},
   "source": [
    "## Evaluación de cada modelo\n",
    "\n",
    "Al menos incluya:\n",
    "\n",
    "+ Instancias clasificadas correctamente\n",
    "+ Instancias clasificadas incorrectamente\n",
    "+ TP Rate\n",
    "+ FP Rate\n",
    "+ Matriz de confusión\n"
   ]
  },
  {
   "cell_type": "code",
   "execution_count": 40,
   "id": "a2e675b3",
   "metadata": {},
   "outputs": [],
   "source": [
    "#Código para mostrar la evaluación del modelo de clasificación 1"
   ]
  },
  {
   "cell_type": "markdown",
   "id": "ad219a0c",
   "metadata": {},
   "source": [
    "Construya un párrafo con los principales hallazgos."
   ]
  },
  {
   "cell_type": "code",
   "execution_count": 41,
   "id": "efec0bb5",
   "metadata": {},
   "outputs": [],
   "source": [
    "#Código  para mostrarla evaluación del modelo de clasificación 2"
   ]
  },
  {
   "cell_type": "markdown",
   "id": "bf3a7cec",
   "metadata": {},
   "source": [
    "Construya un párrafo con los principales hallazgos."
   ]
  },
  {
   "cell_type": "markdown",
   "id": "44df4eb5",
   "metadata": {},
   "source": [
    "## Comparación del desempeño de modelos"
   ]
  },
  {
   "cell_type": "code",
   "execution_count": 42,
   "id": "fe4acd93",
   "metadata": {},
   "outputs": [],
   "source": [
    "#Código para mostrar la comparación de métricas de desempeño de las dos propuestas en tabla"
   ]
  },
  {
   "cell_type": "code",
   "execution_count": 43,
   "id": "1b644946",
   "metadata": {},
   "outputs": [],
   "source": [
    "#Código para mostrar la comparación de métricas de desempeño de las dos propuestas en gráfica"
   ]
  },
  {
   "cell_type": "markdown",
   "id": "f11d5ab4",
   "metadata": {},
   "source": [
    "Construya un párrafo con los principales hallazgos."
   ]
  },
  {
   "cell_type": "markdown",
   "id": "f810fb47",
   "metadata": {
    "ExecuteTime": {
     "end_time": "2022-03-14T16:16:57.134093Z",
     "start_time": "2022-03-14T16:16:57.117129Z"
    }
   },
   "source": [
    "## Discusión de los resultados obtenidos y argumentos sobre cómo se podrían mejorar de dichos resultados"
   ]
  },
  {
   "cell_type": "markdown",
   "id": "c74b3044",
   "metadata": {},
   "source": [
    "Realice en este espacio todo el análsis de resultados final incluyendo: ventajas y desventajas de cada modelo propuesto, Resultados comparados. Conclusiones objetivas y significantes con base a las diferentes métricas escogidas. Recomendaciones de mejora de las propuestas: "
   ]
  }
 ],
 "metadata": {
  "kernelspec": {
   "display_name": "Python 3 (ipykernel)",
   "language": "python",
   "name": "python3"
  },
  "language_info": {
   "codemirror_mode": {
    "name": "ipython",
    "version": 3
   },
   "file_extension": ".py",
   "mimetype": "text/x-python",
   "name": "python",
   "nbconvert_exporter": "python",
   "pygments_lexer": "ipython3",
   "version": "3.9.10"
  },
  "toc": {
   "base_numbering": 1,
   "nav_menu": {},
   "number_sections": true,
   "sideBar": true,
   "skip_h1_title": true,
   "title_cell": "Tabla de Contenido",
   "title_sidebar": "Contenido",
   "toc_cell": false,
   "toc_position": {
    "height": "calc(100% - 180px)",
    "left": "10px",
    "top": "150px",
    "width": "337.597px"
   },
   "toc_section_display": true,
   "toc_window_display": true
  }
 },
 "nbformat": 4,
 "nbformat_minor": 5
}
